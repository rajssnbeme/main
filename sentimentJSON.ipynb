{
  "nbformat": 4,
  "nbformat_minor": 0,
  "metadata": {
    "colab": {
      "name": "Untitled2.ipynb",
      "provenance": [],
      "include_colab_link": true
    },
    "kernelspec": {
      "name": "python3",
      "display_name": "Python 3"
    },
    "language_info": {
      "name": "python"
    }
  },
  "cells": [
    {
      "cell_type": "markdown",
      "metadata": {
        "id": "view-in-github",
        "colab_type": "text"
      },
      "source": [
        "<a href=\"https://colab.research.google.com/github/rajssnbeme/main/blob/main/sentimentJSON.ipynb\" target=\"_parent\"><img src=\"https://colab.research.google.com/assets/colab-badge.svg\" alt=\"Open In Colab\"/></a>"
      ]
    },
    {
      "cell_type": "code",
      "source": [
        "from keras.preprocessing.text import Tokenizer\n",
        "from keras.preprocessing.sequence import pad_sequences\n",
        "from keras.models import Sequential\n",
        "from keras import layers\n",
        "from sklearn.model_selection import train_test_split\n",
        "from sklearn.metrics import confusion_matrix\n",
        "import pandas as pd"
      ],
      "metadata": {
        "id": "cU69Jj21Bxrd"
      },
      "execution_count": 3,
      "outputs": []
    },
    {
      "cell_type": "code",
      "source": [
        "df = pd.read_csv('sentiments.csv')\n",
        "df.columns = [\"label\", \"text\"]\n",
        "x = df['text'].values\n",
        "y = df['label'].values"
      ],
      "metadata": {
        "id": "4n_Z3TW5DGLT"
      },
      "execution_count": 4,
      "outputs": []
    },
    {
      "cell_type": "code",
      "source": [
        "x_train, x_test, y_train, y_test = \\\n",
        "    train_test_split(x, y, test_size=0.1, random_state=123)"
      ],
      "metadata": {
        "id": "JpM1vtnFDR08"
      },
      "execution_count": 5,
      "outputs": []
    },
    {
      "cell_type": "code",
      "source": [
        "x_train,y_train"
      ],
      "metadata": {
        "colab": {
          "base_uri": "https://localhost:8080/"
        },
        "id": "keq3O-olF_Wm",
        "outputId": "b10291b6-c558-46f2-e152-9926957d6e4a"
      },
      "execution_count": 13,
      "outputs": [
        {
          "output_type": "execute_result",
          "data": {
            "text/plain": [
              "(array(['recommend too', 'like it a lot', 'outstanding performance',\n",
              "        \"it's mediocre! not recommend\", 'I really love it', 'It is rude',\n",
              "        \"It's really good\", \"It's really good\", 'Definitely you should go',\n",
              "        \"I don't like this type\", 'Recommend! I really enjoyed!',\n",
              "        'poor performance'], dtype=object),\n",
              " array([1, 1, 1, 0, 1, 0, 1, 1, 1, 0, 1, 0]))"
            ]
          },
          "metadata": {},
          "execution_count": 13
        }
      ]
    },
    {
      "cell_type": "code",
      "source": [
        "tokenizer = Tokenizer(num_words=100)\n",
        "tokenizer.fit_on_texts(x)\n",
        "xtrain = tokenizer.texts_to_sequences(x_train)\n",
        "xtest = tokenizer.texts_to_sequences(x_test)"
      ],
      "metadata": {
        "id": "noKIySadDWGJ"
      },
      "execution_count": 6,
      "outputs": []
    },
    {
      "cell_type": "code",
      "source": [
        "vocab_size = len(tokenizer.word_index)+1\n",
        "\n",
        "maxlen = 10\n",
        "xtrain = pad_sequences(xtrain, padding='post', maxlen=maxlen)\n",
        "xtest = pad_sequences(xtest, padding='post', maxlen=maxlen)\n",
        "\n",
        "print(x_train[3])\n",
        "print(xtrain[3])\n",
        "\n",
        "embedding_dim = 50\n",
        "model = Sequential()\n",
        "model.add(layers.Embedding(input_dim=vocab_size,\n",
        "                           output_dim=embedding_dim,\n",
        "                           input_length=maxlen))\n",
        "model.add(layers.LSTM(units=50, return_sequences=True))\n",
        "model.add(layers.LSTM(units=10))\n",
        "model.add(layers.Dropout(0.5))\n",
        "model.add(layers.Dense(8))\n",
        "model.add(layers.Dense(1, activation=\"sigmoid\"))\n",
        "model.compile(optimizer=\"adam\", loss=\"binary_crossentropy\",\n",
        "              metrics=['accuracy'])\n",
        "model.summary()\n",
        "model.fit(xtrain, y_train, epochs=20, batch_size=16, verbose=False)\n",
        "\n"
      ],
      "metadata": {
        "colab": {
          "base_uri": "https://localhost:8080/"
        },
        "id": "NFaoPGIyDhu-",
        "outputId": "26bf0892-8e35-4b4a-b0e0-f7ffd6ca713a"
      },
      "execution_count": 15,
      "outputs": [
        {
          "output_type": "stream",
          "name": "stdout",
          "text": [
            "it's mediocre! not recommend\n",
            "[ 3 23 12  5  0  0  0  0  0  0]\n",
            "Model: \"sequential_1\"\n",
            "_________________________________________________________________\n",
            " Layer (type)                Output Shape              Param #   \n",
            "=================================================================\n",
            " embedding_1 (Embedding)     (None, 10, 50)            1500      \n",
            "                                                                 \n",
            " lstm_2 (LSTM)               (None, 10, 50)            20200     \n",
            "                                                                 \n",
            " lstm_3 (LSTM)               (None, 10)                2440      \n",
            "                                                                 \n",
            " dropout_1 (Dropout)         (None, 10)                0         \n",
            "                                                                 \n",
            " dense_2 (Dense)             (None, 8)                 88        \n",
            "                                                                 \n",
            " dense_3 (Dense)             (None, 1)                 9         \n",
            "                                                                 \n",
            "=================================================================\n",
            "Total params: 24,237\n",
            "Trainable params: 24,237\n",
            "Non-trainable params: 0\n",
            "_________________________________________________________________\n"
          ]
        },
        {
          "output_type": "execute_result",
          "data": {
            "text/plain": [
              "<keras.callbacks.History at 0x7f507fd5d1d0>"
            ]
          },
          "metadata": {},
          "execution_count": 15
        }
      ]
    },
    {
      "cell_type": "code",
      "source": [
        "loss,acc = model.evaluate(xtrain, y_train, verbose=False)\n",
        "print(\"Training Accuracy: \", acc)\n",
        "loss, acc = model.evaluate(xtest, y_test, verbose=False)\n",
        "print(\"Test Accuracy: \", acc)\n",
        "\n",
        "ypred = model.predict(xtest)\n",
        "\n",
        "ypred[ypred > 0.5] = 1\n",
        "ypred[ypred <= 0.5] = 0\n",
        "cm = confusion_matrix(y_test, ypred)\n",
        "print(cm)\n",
        "\n",
        "result = zip(x_test, y_test, ypred)\n",
        "for i in result:\n",
        "    print(i)"
      ],
      "metadata": {
        "colab": {
          "base_uri": "https://localhost:8080/"
        },
        "id": "9JrK3VHyGryO",
        "outputId": "b664a761-c1a9-4d2f-effe-7b2f09a31335"
      },
      "execution_count": 18,
      "outputs": [
        {
          "output_type": "stream",
          "name": "stdout",
          "text": [
            "Training Accuracy:  0.6666666865348816\n",
            "Test Accuracy:  0.5\n",
            "[[0 1]\n",
            " [0 1]]\n",
            "('This is a great!', 1, array([1.], dtype=float32))\n",
            "('Not good at all!', 0, array([1.], dtype=float32))\n"
          ]
        }
      ]
    }
  ]
}